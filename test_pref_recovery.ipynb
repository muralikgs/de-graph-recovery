{
 "cells": [
  {
   "cell_type": "code",
   "execution_count": 1,
   "metadata": {},
   "outputs": [],
   "source": [
    "import numpy as np "
   ]
  },
  {
   "cell_type": "code",
   "execution_count": 7,
   "metadata": {},
   "outputs": [],
   "source": [
    "X = np.repeat(np.arange(10).reshape(1, 10), repeats=3, axis=0)"
   ]
  },
  {
   "cell_type": "code",
   "execution_count": 13,
   "metadata": {},
   "outputs": [],
   "source": [
    "vertex_set = np.arange(10)\n",
    "intervention_set = np.array([2, 3, 6, 9])\n",
    "observed_set = np.setdiff1d(vertex_set, intervention_set)"
   ]
  },
  {
   "cell_type": "code",
   "execution_count": 15,
   "metadata": {},
   "outputs": [
    {
     "data": {
      "text/plain": [
       "array([[2, 3, 6, 9, 0, 1, 4, 5, 7, 8],\n",
       "       [2, 3, 6, 9, 0, 1, 4, 5, 7, 8],\n",
       "       [2, 3, 6, 9, 0, 1, 4, 5, 7, 8]])"
      ]
     },
     "execution_count": 15,
     "metadata": {},
     "output_type": "execute_result"
    }
   ],
   "source": [
    "indices = np.concatenate((intervention_set, observed_set))\n",
    "X[:, indices]"
   ]
  },
  {
   "cell_type": "code",
   "execution_count": 16,
   "metadata": {},
   "outputs": [
    {
     "data": {
      "text/plain": [
       "array([['a', 'b'],\n",
       "       ['c', 'd']], dtype='<U1')"
      ]
     },
     "execution_count": 16,
     "metadata": {},
     "output_type": "execute_result"
    }
   ],
   "source": [
    "a = np.zeros_like()"
   ]
  },
  {
   "cell_type": "code",
   "execution_count": 18,
   "metadata": {},
   "outputs": [],
   "source": [
    "t = np.zeros((3, 4))"
   ]
  },
  {
   "cell_type": "code",
   "execution_count": 19,
   "metadata": {},
   "outputs": [
    {
     "ename": "ValueError",
     "evalue": "could not convert string to float: 'a'",
     "output_type": "error",
     "traceback": [
      "\u001b[1;31m---------------------------------------------------------------------------\u001b[0m",
      "\u001b[1;31mValueError\u001b[0m                                Traceback (most recent call last)",
      "\u001b[1;32mc:\\Users\\Murali\\Dropbox (GaTech)\\PhD\\de_covariance_recovery\\codes\\test_pref_recovery.ipynb Cell 7\u001b[0m in \u001b[0;36m<cell line: 1>\u001b[1;34m()\u001b[0m\n\u001b[1;32m----> <a href='vscode-notebook-cell:/c%3A/Users/Murali/Dropbox%20%28GaTech%29/PhD/de_covariance_recovery/codes/test_pref_recovery.ipynb#W6sZmlsZQ%3D%3D?line=0'>1</a>\u001b[0m t[\u001b[39m0\u001b[39m,\u001b[39m0\u001b[39m] \u001b[39m=\u001b[39m \u001b[39m'\u001b[39m\u001b[39ma\u001b[39m\u001b[39m'\u001b[39m\n",
      "\u001b[1;31mValueError\u001b[0m: could not convert string to float: 'a'"
     ]
    }
   ],
   "source": [
    "t[0,0] = 'a'"
   ]
  },
  {
   "cell_type": "code",
   "execution_count": 34,
   "metadata": {},
   "outputs": [],
   "source": [
    "t = np.empty((10, 10), dtype='<U2')"
   ]
  },
  {
   "cell_type": "code",
   "execution_count": 35,
   "metadata": {},
   "outputs": [],
   "source": [
    "for i in range(10):\n",
    "    for j in range(10):\n",
    "        t[i, j] = \"{}{}\".format(i,j)"
   ]
  },
  {
   "cell_type": "code",
   "execution_count": 44,
   "metadata": {},
   "outputs": [
    {
     "data": {
      "text/plain": [
       "array([['00', '01', '02', '03', '04', '05', '06', '07', '08', '09'],\n",
       "       ['10', '11', '12', '13', '14', '15', '16', '17', '18', '19'],\n",
       "       ['20', '21', '22', '23', '24', '25', '26', '27', '28', '29'],\n",
       "       ['30', '31', '32', '33', '34', '35', '36', '37', '38', '39'],\n",
       "       ['40', '41', '42', '43', '44', '45', '46', '47', '48', '49'],\n",
       "       ['50', '51', '52', '53', '54', '55', '56', '57', '58', '59'],\n",
       "       ['60', '61', '62', '63', '64', '65', '66', '67', '68', '69'],\n",
       "       ['70', '71', '72', '73', '74', '75', '76', '77', '78', '79'],\n",
       "       ['80', '81', '82', '83', '84', '85', '86', '87', '88', '89'],\n",
       "       ['90', '91', '92', '93', '94', '95', '96', '97', '98', '99']],\n",
       "      dtype='<U2')"
      ]
     },
     "execution_count": 44,
     "metadata": {},
     "output_type": "execute_result"
    }
   ],
   "source": [
    "t"
   ]
  },
  {
   "cell_type": "code",
   "execution_count": 43,
   "metadata": {},
   "outputs": [],
   "source": [
    "col_ind, row_ind = np.meshgrid(indices, indices)"
   ]
  },
  {
   "cell_type": "code",
   "execution_count": 47,
   "metadata": {},
   "outputs": [],
   "source": [
    "t_r = t[row_ind, col_ind]"
   ]
  },
  {
   "cell_type": "code",
   "execution_count": 46,
   "metadata": {},
   "outputs": [
    {
     "data": {
      "text/plain": [
       "array([2, 3, 6, 9, 0, 1, 4, 5, 7, 8])"
      ]
     },
     "execution_count": 46,
     "metadata": {},
     "output_type": "execute_result"
    }
   ],
   "source": [
    "indices"
   ]
  },
  {
   "cell_type": "code",
   "execution_count": 48,
   "metadata": {},
   "outputs": [],
   "source": [
    "rev_ind = np.argsort(indices)"
   ]
  },
  {
   "cell_type": "code",
   "execution_count": 50,
   "metadata": {},
   "outputs": [],
   "source": [
    "col_ind_r, row_ind_r = np.meshgrid(rev_ind, rev_ind)"
   ]
  },
  {
   "cell_type": "code",
   "execution_count": 51,
   "metadata": {},
   "outputs": [
    {
     "data": {
      "text/plain": [
       "array([['00', '01', '02', '03', '04', '05', '06', '07', '08', '09'],\n",
       "       ['10', '11', '12', '13', '14', '15', '16', '17', '18', '19'],\n",
       "       ['20', '21', '22', '23', '24', '25', '26', '27', '28', '29'],\n",
       "       ['30', '31', '32', '33', '34', '35', '36', '37', '38', '39'],\n",
       "       ['40', '41', '42', '43', '44', '45', '46', '47', '48', '49'],\n",
       "       ['50', '51', '52', '53', '54', '55', '56', '57', '58', '59'],\n",
       "       ['60', '61', '62', '63', '64', '65', '66', '67', '68', '69'],\n",
       "       ['70', '71', '72', '73', '74', '75', '76', '77', '78', '79'],\n",
       "       ['80', '81', '82', '83', '84', '85', '86', '87', '88', '89'],\n",
       "       ['90', '91', '92', '93', '94', '95', '96', '97', '98', '99']],\n",
       "      dtype='<U2')"
      ]
     },
     "execution_count": 51,
     "metadata": {},
     "output_type": "execute_result"
    }
   ],
   "source": [
    "t_r[row_ind_r, col_ind_r]"
   ]
  },
  {
   "cell_type": "code",
   "execution_count": null,
   "metadata": {},
   "outputs": [],
   "source": []
  }
 ],
 "metadata": {
  "kernelspec": {
   "display_name": "Python 3.8.8 ('base')",
   "language": "python",
   "name": "python3"
  },
  "language_info": {
   "codemirror_mode": {
    "name": "ipython",
    "version": 3
   },
   "file_extension": ".py",
   "mimetype": "text/x-python",
   "name": "python",
   "nbconvert_exporter": "python",
   "pygments_lexer": "ipython3",
   "version": "3.8.8"
  },
  "orig_nbformat": 4,
  "vscode": {
   "interpreter": {
    "hash": "1662435e70e8f7eaea891b2bbf90908a84711397f9f65fe2d126d61f785d18c9"
   }
  }
 },
 "nbformat": 4,
 "nbformat_minor": 2
}
